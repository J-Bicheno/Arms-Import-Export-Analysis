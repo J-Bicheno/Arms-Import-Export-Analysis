{
  "cells": [
    {
      "cell_type": "markdown",
      "metadata": {
        "id": "0aStgWSO0E0E"
      },
      "source": [
        "# **Arms Data: ETL**"
      ]
    },
    {
      "cell_type": "markdown",
      "metadata": {
        "id": "1eLEkw5O0ECa"
      },
      "source": [
        "## Objectives\n",
        "\n",
        "* Evaluate size of data set\n",
        "* Check data types\n",
        "* Normalise values and columns\n",
        "* Prepare features for K-means clustering \n",
        "\n",
        "## Inputs\n",
        "\n",
        "* This ETL notebook only requires the unprocessed arms transfer dataset as found in the Data/Raw folder\n",
        "\n",
        "## Outputs\n",
        "\n",
        "* By the end of the notebook I would have produced a processed version of the dataset with added features necessary for clustering \n",
        "\n",
        "\n"
      ]
    },
    {
      "cell_type": "markdown",
      "metadata": {
        "id": "9uWZXH9LwoQg"
      },
      "source": [
        "---"
      ]
    },
    {
      "cell_type": "markdown",
      "metadata": {
        "id": "cqP-UeN-z3i2"
      },
      "source": [
        "# Change working directory"
      ]
    },
    {
      "cell_type": "markdown",
      "metadata": {},
      "source": [
        "* We are assuming you will store the notebooks in a subfolder, therefore when running the notebook in the editor, you will need to change the working directory"
      ]
    },
    {
      "cell_type": "markdown",
      "metadata": {
        "id": "aOGIGS-uz3i2"
      },
      "source": [
        "We need to change the working directory from its current folder to its parent folder\n",
        "* We access the current directory with os.getcwd()"
      ]
    },
    {
      "cell_type": "code",
      "execution_count": 1,
      "metadata": {
        "id": "wZfF_j-Bz3i4",
        "outputId": "66943449-1436-4c3d-85c7-b85f9f78349b"
      },
      "outputs": [
        {
          "data": {
            "text/plain": [
              "'c:\\\\Users\\\\jackr\\\\OneDrive\\\\Desktop\\\\my_projects\\\\Capstone\\\\Arms-Import-Export-Analysis\\\\jupyter_notebooks'"
            ]
          },
          "execution_count": 1,
          "metadata": {},
          "output_type": "execute_result"
        }
      ],
      "source": [
        "import os\n",
        "current_dir = os.getcwd()\n",
        "current_dir"
      ]
    },
    {
      "cell_type": "markdown",
      "metadata": {
        "id": "9MWW8E7lz3i7"
      },
      "source": [
        "We want to make the parent of the current directory the new current directory\n",
        "* os.path.dirname() gets the parent directory\n",
        "* os.chir() defines the new current directory"
      ]
    },
    {
      "cell_type": "code",
      "execution_count": 2,
      "metadata": {
        "id": "TwHsQRWjz3i9",
        "outputId": "86849db3-cd2f-4cc5-ebb8-2d0caafa1a2c"
      },
      "outputs": [
        {
          "name": "stdout",
          "output_type": "stream",
          "text": [
            "You set a new current directory\n"
          ]
        }
      ],
      "source": [
        "os.chdir(os.path.dirname(current_dir))\n",
        "print(\"You set a new current directory\")"
      ]
    },
    {
      "cell_type": "markdown",
      "metadata": {
        "id": "M_xPk_Ijz3i-"
      },
      "source": [
        "Confirm the new current directory"
      ]
    },
    {
      "cell_type": "code",
      "execution_count": 3,
      "metadata": {
        "id": "vz3S-_kjz3jA",
        "outputId": "00b79ae4-75d0-4a96-d193-ac9ef9847ea2"
      },
      "outputs": [
        {
          "data": {
            "text/plain": [
              "'c:\\\\Users\\\\jackr\\\\OneDrive\\\\Desktop\\\\my_projects\\\\Capstone\\\\Arms-Import-Export-Analysis'"
            ]
          },
          "execution_count": 3,
          "metadata": {},
          "output_type": "execute_result"
        }
      ],
      "source": [
        "current_dir = os.getcwd()\n",
        "current_dir"
      ]
    },
    {
      "cell_type": "code",
      "execution_count": 4,
      "metadata": {},
      "outputs": [
        {
          "name": "stdout",
          "output_type": "stream",
          "text": [
            "['.git', '.gitignore', '.python-version', '.slugignore', '.venv', 'Data', 'jupyter_notebooks', 'Procfile', 'README.md', 'requirements.txt', 'setup.sh']\n"
          ]
        }
      ],
      "source": [
        "print(os.listdir())\n"
      ]
    },
    {
      "cell_type": "markdown",
      "metadata": {
        "id": "-mavJ8DibrcQ"
      },
      "source": [
        "# Cleaning and normalising "
      ]
    },
    {
      "cell_type": "markdown",
      "metadata": {},
      "source": [
        "In this section the focus will be on transforming the existing data as opposed to feature engineering "
      ]
    },
    {
      "cell_type": "markdown",
      "metadata": {},
      "source": [
        "First the necessary libraries will be imported "
      ]
    },
    {
      "cell_type": "code",
      "execution_count": 5,
      "metadata": {},
      "outputs": [],
      "source": [
        "import pandas as pd"
      ]
    },
    {
      "cell_type": "markdown",
      "metadata": {},
      "source": [
        "Now the CSV file containing the dataset can be parsed into a DataFrame "
      ]
    },
    {
      "cell_type": "code",
      "execution_count": 15,
      "metadata": {},
      "outputs": [
        {
          "data": {
            "text/html": [
              "<div>\n",
              "<style scoped>\n",
              "    .dataframe tbody tr th:only-of-type {\n",
              "        vertical-align: middle;\n",
              "    }\n",
              "\n",
              "    .dataframe tbody tr th {\n",
              "        vertical-align: top;\n",
              "    }\n",
              "\n",
              "    .dataframe thead th {\n",
              "        text-align: right;\n",
              "    }\n",
              "</style>\n",
              "<table border=\"1\" class=\"dataframe\">\n",
              "  <thead>\n",
              "    <tr style=\"text-align: right;\">\n",
              "      <th></th>\n",
              "      <th>Recipient</th>\n",
              "      <th>Supplier</th>\n",
              "      <th>Year of order</th>\n",
              "      <th></th>\n",
              "      <th>Number ordered</th>\n",
              "      <th>.1</th>\n",
              "      <th>Weapon designation</th>\n",
              "      <th>Weapon description</th>\n",
              "      <th>Number delivered</th>\n",
              "      <th>.2</th>\n",
              "      <th>Year(s) of delivery</th>\n",
              "      <th>status</th>\n",
              "      <th>Comments</th>\n",
              "      <th>SIPRI TIV per unit</th>\n",
              "      <th>SIPRI TIV for total order</th>\n",
              "      <th>SIPRI TIV of delivered weapons</th>\n",
              "    </tr>\n",
              "  </thead>\n",
              "  <tbody>\n",
              "    <tr>\n",
              "      <th>0</th>\n",
              "      <td>Afghanistan</td>\n",
              "      <td>Russia</td>\n",
              "      <td>2002.0</td>\n",
              "      <td>NaN</td>\n",
              "      <td>3.0</td>\n",
              "      <td>NaN</td>\n",
              "      <td>Mi-17</td>\n",
              "      <td>transport helicopter</td>\n",
              "      <td>3.0</td>\n",
              "      <td>NaN</td>\n",
              "      <td>2002</td>\n",
              "      <td>Second hand</td>\n",
              "      <td>Second-hand; aid</td>\n",
              "      <td>2.90</td>\n",
              "      <td>8.70</td>\n",
              "      <td>8.70</td>\n",
              "    </tr>\n",
              "    <tr>\n",
              "      <th>1</th>\n",
              "      <td>Afghanistan</td>\n",
              "      <td>Turkiye</td>\n",
              "      <td>2007.0</td>\n",
              "      <td>NaN</td>\n",
              "      <td>24.0</td>\n",
              "      <td>NaN</td>\n",
              "      <td>M-114 155mm</td>\n",
              "      <td>towed gun</td>\n",
              "      <td>24.0</td>\n",
              "      <td>NaN</td>\n",
              "      <td>2007</td>\n",
              "      <td>Second hand</td>\n",
              "      <td>Second-hand; aid</td>\n",
              "      <td>0.20</td>\n",
              "      <td>4.80</td>\n",
              "      <td>4.80</td>\n",
              "    </tr>\n",
              "    <tr>\n",
              "      <th>2</th>\n",
              "      <td>Afghanistan</td>\n",
              "      <td>United States</td>\n",
              "      <td>2004.0</td>\n",
              "      <td>?</td>\n",
              "      <td>188.0</td>\n",
              "      <td>?</td>\n",
              "      <td>M-113</td>\n",
              "      <td>armoured personnel carrier</td>\n",
              "      <td>188.0</td>\n",
              "      <td>?</td>\n",
              "      <td>2005</td>\n",
              "      <td>Second hand</td>\n",
              "      <td>Second-hand; aid; M-113A2 version; incl 15 M-5...</td>\n",
              "      <td>0.10</td>\n",
              "      <td>18.80</td>\n",
              "      <td>18.80</td>\n",
              "    </tr>\n",
              "    <tr>\n",
              "      <th>3</th>\n",
              "      <td>Afghanistan</td>\n",
              "      <td>United States</td>\n",
              "      <td>2016.0</td>\n",
              "      <td>NaN</td>\n",
              "      <td>53.0</td>\n",
              "      <td>NaN</td>\n",
              "      <td>S-70 Black Hawk</td>\n",
              "      <td>transport helicopter</td>\n",
              "      <td>53.0</td>\n",
              "      <td>?</td>\n",
              "      <td>2017; 2018; 2019; 2020</td>\n",
              "      <td>Second hand but modernized</td>\n",
              "      <td>Second-hand UH-60A modernized to UH-60A+ befor...</td>\n",
              "      <td>4.29</td>\n",
              "      <td>227.37</td>\n",
              "      <td>227.37</td>\n",
              "    </tr>\n",
              "    <tr>\n",
              "      <th>4</th>\n",
              "      <td>Afghanistan</td>\n",
              "      <td>Soviet Union</td>\n",
              "      <td>1973.0</td>\n",
              "      <td>?</td>\n",
              "      <td>100.0</td>\n",
              "      <td>?</td>\n",
              "      <td>T-62</td>\n",
              "      <td>tank</td>\n",
              "      <td>100.0</td>\n",
              "      <td>?</td>\n",
              "      <td>1975; 1976</td>\n",
              "      <td>New</td>\n",
              "      <td>NaN</td>\n",
              "      <td>1.80</td>\n",
              "      <td>180.00</td>\n",
              "      <td>180.00</td>\n",
              "    </tr>\n",
              "  </tbody>\n",
              "</table>\n",
              "</div>"
            ],
            "text/plain": [
              "     Recipient       Supplier  Year of order       Number ordered   .1  \\\n",
              "0  Afghanistan         Russia         2002.0  NaN             3.0  NaN   \n",
              "1  Afghanistan        Turkiye         2007.0  NaN            24.0  NaN   \n",
              "2  Afghanistan  United States         2004.0    ?           188.0    ?   \n",
              "3  Afghanistan  United States         2016.0  NaN            53.0  NaN   \n",
              "4  Afghanistan   Soviet Union         1973.0    ?           100.0    ?   \n",
              "\n",
              "  Weapon designation          Weapon description  Number delivered   .2  \\\n",
              "0              Mi-17        transport helicopter               3.0  NaN   \n",
              "1        M-114 155mm                   towed gun              24.0  NaN   \n",
              "2              M-113  armoured personnel carrier             188.0    ?   \n",
              "3    S-70 Black Hawk        transport helicopter              53.0    ?   \n",
              "4               T-62                        tank             100.0    ?   \n",
              "\n",
              "      Year(s) of delivery                      status  \\\n",
              "0                    2002                 Second hand   \n",
              "1                    2007                 Second hand   \n",
              "2                    2005                 Second hand   \n",
              "3  2017; 2018; 2019; 2020  Second hand but modernized   \n",
              "4              1975; 1976                         New   \n",
              "\n",
              "                                            Comments  SIPRI TIV per unit  \\\n",
              "0                                   Second-hand; aid                2.90   \n",
              "1                                   Second-hand; aid                0.20   \n",
              "2  Second-hand; aid; M-113A2 version; incl 15 M-5...                0.10   \n",
              "3  Second-hand UH-60A modernized to UH-60A+ befor...                4.29   \n",
              "4                                                NaN                1.80   \n",
              "\n",
              "   SIPRI TIV for total order  SIPRI TIV of delivered weapons  \n",
              "0                       8.70                            8.70  \n",
              "1                       4.80                            4.80  \n",
              "2                      18.80                           18.80  \n",
              "3                     227.37                          227.37  \n",
              "4                     180.00                          180.00  "
            ]
          },
          "execution_count": 15,
          "metadata": {},
          "output_type": "execute_result"
        }
      ],
      "source": [
        "arms_df = pd.read_csv('Data/Raw/trade-register-military.csv')\n",
        "arms_df.head()"
      ]
    },
    {
      "cell_type": "markdown",
      "metadata": {},
      "source": [
        "It is worth noting that this dataset measures each order by 'TIV' (Trend Indicator Value), this is SIPRI's way of calculating military capability and is used in place of the total market value"
      ]
    },
    {
      "cell_type": "markdown",
      "metadata": {},
      "source": [
        "First the structure and data types will be checked"
      ]
    },
    {
      "cell_type": "code",
      "execution_count": 17,
      "metadata": {},
      "outputs": [
        {
          "data": {
            "text/plain": [
              "(29507, 13)"
            ]
          },
          "execution_count": 17,
          "metadata": {},
          "output_type": "execute_result"
        }
      ],
      "source": [
        "arms_df.shape"
      ]
    },
    {
      "cell_type": "markdown",
      "metadata": {},
      "source": [
        "At just under 30,000 rows this dataset will be excellent for analysis"
      ]
    },
    {
      "cell_type": "code",
      "execution_count": 18,
      "metadata": {},
      "outputs": [
        {
          "name": "stdout",
          "output_type": "stream",
          "text": [
            "<class 'pandas.core.frame.DataFrame'>\n",
            "RangeIndex: 29507 entries, 0 to 29506\n",
            "Data columns (total 13 columns):\n",
            " #   Column                          Non-Null Count  Dtype  \n",
            "---  ------                          --------------  -----  \n",
            " 0   Recipient                       29503 non-null  object \n",
            " 1   Supplier                        29507 non-null  object \n",
            " 2   Year of order                   29507 non-null  float64\n",
            " 3   Number ordered                  29217 non-null  float64\n",
            " 4   Weapon designation              29503 non-null  object \n",
            " 5   Weapon description              29503 non-null  object \n",
            " 6   Number delivered                29503 non-null  float64\n",
            " 7   Year(s) of delivery             28348 non-null  object \n",
            " 8   status                          29503 non-null  object \n",
            " 9   Comments                        24211 non-null  object \n",
            " 10  SIPRI TIV per unit              29499 non-null  float64\n",
            " 11  SIPRI TIV for total order       29499 non-null  float64\n",
            " 12  SIPRI TIV of delivered weapons  29499 non-null  float64\n",
            "dtypes: float64(6), object(7)\n",
            "memory usage: 2.9+ MB\n"
          ]
        }
      ],
      "source": [
        "arms_df.info()"
      ]
    },
    {
      "cell_type": "markdown",
      "metadata": {},
      "source": [
        "Looks like the Year of order values need to be converted to datetime, as there are often multiple years in the Year(s) of delivery column different action may need to be taken"
      ]
    },
    {
      "cell_type": "code",
      "execution_count": 19,
      "metadata": {},
      "outputs": [
        {
          "data": {
            "text/html": [
              "<div>\n",
              "<style scoped>\n",
              "    .dataframe tbody tr th:only-of-type {\n",
              "        vertical-align: middle;\n",
              "    }\n",
              "\n",
              "    .dataframe tbody tr th {\n",
              "        vertical-align: top;\n",
              "    }\n",
              "\n",
              "    .dataframe thead th {\n",
              "        text-align: right;\n",
              "    }\n",
              "</style>\n",
              "<table border=\"1\" class=\"dataframe\">\n",
              "  <thead>\n",
              "    <tr style=\"text-align: right;\">\n",
              "      <th></th>\n",
              "      <th>Year of order</th>\n",
              "      <th>Number ordered</th>\n",
              "      <th>Number delivered</th>\n",
              "      <th>SIPRI TIV per unit</th>\n",
              "      <th>SIPRI TIV for total order</th>\n",
              "      <th>SIPRI TIV of delivered weapons</th>\n",
              "    </tr>\n",
              "  </thead>\n",
              "  <tbody>\n",
              "    <tr>\n",
              "      <th>count</th>\n",
              "      <td>29507.000000</td>\n",
              "      <td>29217.000000</td>\n",
              "      <td>29503.000000</td>\n",
              "      <td>29499.000000</td>\n",
              "      <td>29499.000000</td>\n",
              "      <td>29499.000000</td>\n",
              "    </tr>\n",
              "    <tr>\n",
              "      <th>mean</th>\n",
              "      <td>1989.283792</td>\n",
              "      <td>124.013896</td>\n",
              "      <td>122.131071</td>\n",
              "      <td>7.553335</td>\n",
              "      <td>76.846316</td>\n",
              "      <td>70.923255</td>\n",
              "    </tr>\n",
              "    <tr>\n",
              "      <th>std</th>\n",
              "      <td>31.289445</td>\n",
              "      <td>806.611909</td>\n",
              "      <td>837.095692</td>\n",
              "      <td>27.676713</td>\n",
              "      <td>264.162104</td>\n",
              "      <td>245.602120</td>\n",
              "    </tr>\n",
              "    <tr>\n",
              "      <th>min</th>\n",
              "      <td>0.360000</td>\n",
              "      <td>1.000000</td>\n",
              "      <td>0.000000</td>\n",
              "      <td>0.000000</td>\n",
              "      <td>0.000000</td>\n",
              "      <td>0.000000</td>\n",
              "    </tr>\n",
              "    <tr>\n",
              "      <th>25%</th>\n",
              "      <td>1973.000000</td>\n",
              "      <td>3.000000</td>\n",
              "      <td>3.000000</td>\n",
              "      <td>0.240000</td>\n",
              "      <td>4.400000</td>\n",
              "      <td>3.700000</td>\n",
              "    </tr>\n",
              "    <tr>\n",
              "      <th>50%</th>\n",
              "      <td>1988.000000</td>\n",
              "      <td>10.000000</td>\n",
              "      <td>10.000000</td>\n",
              "      <td>1.000000</td>\n",
              "      <td>15.000000</td>\n",
              "      <td>14.000000</td>\n",
              "    </tr>\n",
              "    <tr>\n",
              "      <th>75%</th>\n",
              "      <td>2009.000000</td>\n",
              "      <td>50.000000</td>\n",
              "      <td>43.000000</td>\n",
              "      <td>5.000000</td>\n",
              "      <td>50.000000</td>\n",
              "      <td>47.000000</td>\n",
              "    </tr>\n",
              "    <tr>\n",
              "      <th>max</th>\n",
              "      <td>2024.000000</td>\n",
              "      <td>50000.000000</td>\n",
              "      <td>50000.000000</td>\n",
              "      <td>1250.000000</td>\n",
              "      <td>10117.500000</td>\n",
              "      <td>10117.500000</td>\n",
              "    </tr>\n",
              "  </tbody>\n",
              "</table>\n",
              "</div>"
            ],
            "text/plain": [
              "       Year of order  Number ordered  Number delivered  SIPRI TIV per unit  \\\n",
              "count   29507.000000    29217.000000      29503.000000        29499.000000   \n",
              "mean     1989.283792      124.013896        122.131071            7.553335   \n",
              "std        31.289445      806.611909        837.095692           27.676713   \n",
              "min         0.360000        1.000000          0.000000            0.000000   \n",
              "25%      1973.000000        3.000000          3.000000            0.240000   \n",
              "50%      1988.000000       10.000000         10.000000            1.000000   \n",
              "75%      2009.000000       50.000000         43.000000            5.000000   \n",
              "max      2024.000000    50000.000000      50000.000000         1250.000000   \n",
              "\n",
              "       SIPRI TIV for total order  SIPRI TIV of delivered weapons  \n",
              "count               29499.000000                    29499.000000  \n",
              "mean                   76.846316                       70.923255  \n",
              "std                   264.162104                      245.602120  \n",
              "min                     0.000000                        0.000000  \n",
              "25%                     4.400000                        3.700000  \n",
              "50%                    15.000000                       14.000000  \n",
              "75%                    50.000000                       47.000000  \n",
              "max                 10117.500000                    10117.500000  "
            ]
          },
          "execution_count": 19,
          "metadata": {},
          "output_type": "execute_result"
        }
      ],
      "source": [
        "arms_df.describe()"
      ]
    },
    {
      "cell_type": "markdown",
      "metadata": {},
      "source": [
        "The values shown above will provide a good benchmark for exploratory analysis"
      ]
    },
    {
      "cell_type": "markdown",
      "metadata": {},
      "source": [
        "Now the number of duplicated rows and null values are displayed"
      ]
    },
    {
      "cell_type": "code",
      "execution_count": 23,
      "metadata": {},
      "outputs": [
        {
          "data": {
            "text/plain": [
              "12"
            ]
          },
          "execution_count": 23,
          "metadata": {},
          "output_type": "execute_result"
        }
      ],
      "source": [
        "arms_df.duplicated().sum()\n"
      ]
    },
    {
      "cell_type": "code",
      "execution_count": 22,
      "metadata": {},
      "outputs": [
        {
          "data": {
            "text/plain": [
              "Recipient                            4\n",
              "Supplier                             0\n",
              "Year of order                        0\n",
              "Number ordered                     290\n",
              "Weapon designation                   4\n",
              "Weapon description                   4\n",
              "Number delivered                     4\n",
              "Year(s) of delivery               1159\n",
              "status                               4\n",
              "Comments                          5296\n",
              "SIPRI TIV per unit                   8\n",
              "SIPRI TIV for total order            8\n",
              "SIPRI TIV of delivered weapons       8\n",
              "dtype: int64"
            ]
          },
          "execution_count": 22,
          "metadata": {},
          "output_type": "execute_result"
        }
      ],
      "source": [
        "arms_df.isnull().sum()"
      ]
    },
    {
      "cell_type": "markdown",
      "metadata": {},
      "source": [
        "There are some unlabeled columns with unknown values which will be dropped "
      ]
    },
    {
      "cell_type": "code",
      "execution_count": 16,
      "metadata": {},
      "outputs": [
        {
          "data": {
            "text/html": [
              "<div>\n",
              "<style scoped>\n",
              "    .dataframe tbody tr th:only-of-type {\n",
              "        vertical-align: middle;\n",
              "    }\n",
              "\n",
              "    .dataframe tbody tr th {\n",
              "        vertical-align: top;\n",
              "    }\n",
              "\n",
              "    .dataframe thead th {\n",
              "        text-align: right;\n",
              "    }\n",
              "</style>\n",
              "<table border=\"1\" class=\"dataframe\">\n",
              "  <thead>\n",
              "    <tr style=\"text-align: right;\">\n",
              "      <th></th>\n",
              "      <th>Recipient</th>\n",
              "      <th>Supplier</th>\n",
              "      <th>Year of order</th>\n",
              "      <th>Number ordered</th>\n",
              "      <th>Weapon designation</th>\n",
              "      <th>Weapon description</th>\n",
              "      <th>Number delivered</th>\n",
              "      <th>Year(s) of delivery</th>\n",
              "      <th>status</th>\n",
              "      <th>Comments</th>\n",
              "      <th>SIPRI TIV per unit</th>\n",
              "      <th>SIPRI TIV for total order</th>\n",
              "      <th>SIPRI TIV of delivered weapons</th>\n",
              "    </tr>\n",
              "  </thead>\n",
              "  <tbody>\n",
              "    <tr>\n",
              "      <th>0</th>\n",
              "      <td>Afghanistan</td>\n",
              "      <td>Russia</td>\n",
              "      <td>2002.0</td>\n",
              "      <td>3.0</td>\n",
              "      <td>Mi-17</td>\n",
              "      <td>transport helicopter</td>\n",
              "      <td>3.0</td>\n",
              "      <td>2002</td>\n",
              "      <td>Second hand</td>\n",
              "      <td>Second-hand; aid</td>\n",
              "      <td>2.90</td>\n",
              "      <td>8.70</td>\n",
              "      <td>8.70</td>\n",
              "    </tr>\n",
              "    <tr>\n",
              "      <th>1</th>\n",
              "      <td>Afghanistan</td>\n",
              "      <td>Turkiye</td>\n",
              "      <td>2007.0</td>\n",
              "      <td>24.0</td>\n",
              "      <td>M-114 155mm</td>\n",
              "      <td>towed gun</td>\n",
              "      <td>24.0</td>\n",
              "      <td>2007</td>\n",
              "      <td>Second hand</td>\n",
              "      <td>Second-hand; aid</td>\n",
              "      <td>0.20</td>\n",
              "      <td>4.80</td>\n",
              "      <td>4.80</td>\n",
              "    </tr>\n",
              "    <tr>\n",
              "      <th>2</th>\n",
              "      <td>Afghanistan</td>\n",
              "      <td>United States</td>\n",
              "      <td>2004.0</td>\n",
              "      <td>188.0</td>\n",
              "      <td>M-113</td>\n",
              "      <td>armoured personnel carrier</td>\n",
              "      <td>188.0</td>\n",
              "      <td>2005</td>\n",
              "      <td>Second hand</td>\n",
              "      <td>Second-hand; aid; M-113A2 version; incl 15 M-5...</td>\n",
              "      <td>0.10</td>\n",
              "      <td>18.80</td>\n",
              "      <td>18.80</td>\n",
              "    </tr>\n",
              "    <tr>\n",
              "      <th>3</th>\n",
              "      <td>Afghanistan</td>\n",
              "      <td>United States</td>\n",
              "      <td>2016.0</td>\n",
              "      <td>53.0</td>\n",
              "      <td>S-70 Black Hawk</td>\n",
              "      <td>transport helicopter</td>\n",
              "      <td>53.0</td>\n",
              "      <td>2017; 2018; 2019; 2020</td>\n",
              "      <td>Second hand but modernized</td>\n",
              "      <td>Second-hand UH-60A modernized to UH-60A+ befor...</td>\n",
              "      <td>4.29</td>\n",
              "      <td>227.37</td>\n",
              "      <td>227.37</td>\n",
              "    </tr>\n",
              "    <tr>\n",
              "      <th>4</th>\n",
              "      <td>Afghanistan</td>\n",
              "      <td>Soviet Union</td>\n",
              "      <td>1973.0</td>\n",
              "      <td>100.0</td>\n",
              "      <td>T-62</td>\n",
              "      <td>tank</td>\n",
              "      <td>100.0</td>\n",
              "      <td>1975; 1976</td>\n",
              "      <td>New</td>\n",
              "      <td>NaN</td>\n",
              "      <td>1.80</td>\n",
              "      <td>180.00</td>\n",
              "      <td>180.00</td>\n",
              "    </tr>\n",
              "  </tbody>\n",
              "</table>\n",
              "</div>"
            ],
            "text/plain": [
              "     Recipient       Supplier  Year of order  Number ordered  \\\n",
              "0  Afghanistan         Russia         2002.0             3.0   \n",
              "1  Afghanistan        Turkiye         2007.0            24.0   \n",
              "2  Afghanistan  United States         2004.0           188.0   \n",
              "3  Afghanistan  United States         2016.0            53.0   \n",
              "4  Afghanistan   Soviet Union         1973.0           100.0   \n",
              "\n",
              "  Weapon designation          Weapon description  Number delivered  \\\n",
              "0              Mi-17        transport helicopter               3.0   \n",
              "1        M-114 155mm                   towed gun              24.0   \n",
              "2              M-113  armoured personnel carrier             188.0   \n",
              "3    S-70 Black Hawk        transport helicopter              53.0   \n",
              "4               T-62                        tank             100.0   \n",
              "\n",
              "      Year(s) of delivery                      status  \\\n",
              "0                    2002                 Second hand   \n",
              "1                    2007                 Second hand   \n",
              "2                    2005                 Second hand   \n",
              "3  2017; 2018; 2019; 2020  Second hand but modernized   \n",
              "4              1975; 1976                         New   \n",
              "\n",
              "                                            Comments  SIPRI TIV per unit  \\\n",
              "0                                   Second-hand; aid                2.90   \n",
              "1                                   Second-hand; aid                0.20   \n",
              "2  Second-hand; aid; M-113A2 version; incl 15 M-5...                0.10   \n",
              "3  Second-hand UH-60A modernized to UH-60A+ befor...                4.29   \n",
              "4                                                NaN                1.80   \n",
              "\n",
              "   SIPRI TIV for total order  SIPRI TIV of delivered weapons  \n",
              "0                       8.70                            8.70  \n",
              "1                       4.80                            4.80  \n",
              "2                      18.80                           18.80  \n",
              "3                     227.37                          227.37  \n",
              "4                     180.00                          180.00  "
            ]
          },
          "execution_count": 16,
          "metadata": {},
          "output_type": "execute_result"
        }
      ],
      "source": [
        "arms_df = arms_df.drop(columns=[arms_df.columns[9], \n",
        "                                arms_df.columns[5], \n",
        "                                arms_df.columns[3]]\n",
        ")\n",
        "arms_df.head()\n"
      ]
    },
    {
      "cell_type": "markdown",
      "metadata": {
        "id": "ZY3l0-AxO93d"
      },
      "source": [
        "---"
      ]
    },
    {
      "cell_type": "markdown",
      "metadata": {
        "id": "uFQo3ycuO-v6"
      },
      "source": [
        "# Section 2"
      ]
    },
    {
      "cell_type": "markdown",
      "metadata": {},
      "source": [
        "Section 2 content"
      ]
    },
    {
      "cell_type": "code",
      "execution_count": null,
      "metadata": {},
      "outputs": [],
      "source": []
    },
    {
      "cell_type": "markdown",
      "metadata": {},
      "source": [
        "---"
      ]
    },
    {
      "cell_type": "markdown",
      "metadata": {},
      "source": [
        "NOTE"
      ]
    },
    {
      "cell_type": "markdown",
      "metadata": {},
      "source": [
        "* You may add as many sections as you want, as long as it supports your project workflow.\n",
        "* All notebook's cells should be run top-down (you can't create a dynamic wherein a given point you need to go back to a previous cell to execute some task, like go back to a previous cell and refresh a variable content)"
      ]
    },
    {
      "cell_type": "markdown",
      "metadata": {},
      "source": [
        "---"
      ]
    },
    {
      "cell_type": "markdown",
      "metadata": {
        "id": "ltNetd085qHf"
      },
      "source": [
        "# Push files to Repo"
      ]
    },
    {
      "cell_type": "markdown",
      "metadata": {},
      "source": [
        "* In cases where you don't need to push files to Repo, you may replace this section with \"Conclusions and Next Steps\" and state your conclusions and next steps."
      ]
    },
    {
      "cell_type": "code",
      "execution_count": null,
      "metadata": {
        "id": "aKlnIozA4eQO",
        "outputId": "fd09bc1f-adb1-4511-f6ce-492a6af570c0"
      },
      "outputs": [],
      "source": [
        "import os\n",
        "try:\n",
        "  # create your folder here\n",
        "  # os.makedirs(name='')\n",
        "except Exception as e:\n",
        "  print(e)\n"
      ]
    }
  ],
  "metadata": {
    "accelerator": "GPU",
    "colab": {
      "name": "Data Practitioner Jupyter Notebook.ipynb",
      "provenance": [],
      "toc_visible": true
    },
    "kernelspec": {
      "display_name": ".venv (3.12.8)",
      "language": "python",
      "name": "python3"
    },
    "language_info": {
      "codemirror_mode": {
        "name": "ipython",
        "version": 3
      },
      "file_extension": ".py",
      "mimetype": "text/x-python",
      "name": "python",
      "nbconvert_exporter": "python",
      "pygments_lexer": "ipython3",
      "version": "3.12.8"
    },
    "orig_nbformat": 2
  },
  "nbformat": 4,
  "nbformat_minor": 2
}
