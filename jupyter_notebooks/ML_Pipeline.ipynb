{
  "cells": [
    {
      "cell_type": "markdown",
      "metadata": {
        "id": "0aStgWSO0E0E"
      },
      "source": [
        "# **Arms Trade: Clustering**"
      ]
    },
    {
      "cell_type": "markdown",
      "metadata": {
        "id": "1eLEkw5O0ECa"
      },
      "source": [
        "## Objectives\n",
        "\n",
        "* The goal of this notebook is to cluster countries based on their trade behaviour \n",
        "* I hope to discover 3 clusters: Major Importer, Major Exporter and Balanced Trader\n",
        "\n",
        "## Inputs\n",
        "\n",
        "* Like the last section, this notebook requires the processed dataset 'arms_trade_cleaned.csv' as found in the data_folder/Processed path\n",
        "\n",
        "## Outputs\n",
        "\n",
        "* First and foremost a ML clustering pipeline will be produced\n",
        "* Following on from this a small dataframe will be created to join the cluster labels to the main dataset \n",
        "\n",
        "\n"
      ]
    },
    {
      "cell_type": "markdown",
      "metadata": {
        "id": "9uWZXH9LwoQg"
      },
      "source": [
        "---"
      ]
    },
    {
      "cell_type": "markdown",
      "metadata": {
        "id": "cqP-UeN-z3i2"
      },
      "source": [
        "# Change working directory"
      ]
    },
    {
      "cell_type": "markdown",
      "metadata": {},
      "source": [
        "* We are assuming you will store the notebooks in a subfolder, therefore when running the notebook in the editor, you will need to change the working directory"
      ]
    },
    {
      "cell_type": "markdown",
      "metadata": {
        "id": "aOGIGS-uz3i2"
      },
      "source": [
        "We need to change the working directory from its current folder to its parent folder\n",
        "* We access the current directory with os.getcwd()"
      ]
    },
    {
      "cell_type": "code",
      "execution_count": 1,
      "metadata": {
        "id": "wZfF_j-Bz3i4",
        "outputId": "66943449-1436-4c3d-85c7-b85f9f78349b"
      },
      "outputs": [
        {
          "data": {
            "text/plain": [
              "'c:\\\\Users\\\\jackr\\\\OneDrive\\\\Desktop\\\\my_projects\\\\Capstone\\\\Arms-Import-Export-Analysis\\\\jupyter_notebooks'"
            ]
          },
          "execution_count": 1,
          "metadata": {},
          "output_type": "execute_result"
        }
      ],
      "source": [
        "import os\n",
        "current_dir = os.getcwd()\n",
        "current_dir"
      ]
    },
    {
      "cell_type": "markdown",
      "metadata": {
        "id": "9MWW8E7lz3i7"
      },
      "source": [
        "We want to make the parent of the current directory the new current directory\n",
        "* os.path.dirname() gets the parent directory\n",
        "* os.chir() defines the new current directory"
      ]
    },
    {
      "cell_type": "code",
      "execution_count": 2,
      "metadata": {
        "id": "TwHsQRWjz3i9",
        "outputId": "86849db3-cd2f-4cc5-ebb8-2d0caafa1a2c"
      },
      "outputs": [
        {
          "name": "stdout",
          "output_type": "stream",
          "text": [
            "You set a new current directory\n"
          ]
        }
      ],
      "source": [
        "os.chdir(os.path.dirname(current_dir))\n",
        "print(\"You set a new current directory\")"
      ]
    },
    {
      "cell_type": "markdown",
      "metadata": {
        "id": "M_xPk_Ijz3i-"
      },
      "source": [
        "Confirm the new current directory"
      ]
    },
    {
      "cell_type": "code",
      "execution_count": 3,
      "metadata": {
        "id": "vz3S-_kjz3jA",
        "outputId": "00b79ae4-75d0-4a96-d193-ac9ef9847ea2"
      },
      "outputs": [
        {
          "data": {
            "text/plain": [
              "'c:\\\\Users\\\\jackr\\\\OneDrive\\\\Desktop\\\\my_projects\\\\Capstone\\\\Arms-Import-Export-Analysis'"
            ]
          },
          "execution_count": 3,
          "metadata": {},
          "output_type": "execute_result"
        }
      ],
      "source": [
        "current_dir = os.getcwd()\n",
        "current_dir"
      ]
    },
    {
      "cell_type": "markdown",
      "metadata": {
        "id": "-mavJ8DibrcQ"
      },
      "source": [
        "# Preprocessing and Scaling"
      ]
    },
    {
      "cell_type": "markdown",
      "metadata": {},
      "source": [
        "In this section the features for the pipeline will be chosen and necessary scaling and processing steps will be applied"
      ]
    },
    {
      "cell_type": "markdown",
      "metadata": {},
      "source": [
        "Importing the necessary libraries."
      ]
    },
    {
      "cell_type": "code",
      "execution_count": 4,
      "metadata": {},
      "outputs": [],
      "source": [
        "import pandas as pd\n",
        "import numpy as np\n",
        "from sklearn.preprocessing import StandardScaler\n",
        "from sklearn.cluster import KMeans\n",
        "from sklearn.metrics import silhouette_score\n",
        "import matplotlib.pyplot as plt\n",
        "import seaborn as sns"
      ]
    },
    {
      "cell_type": "markdown",
      "metadata": {},
      "source": [
        "Retrieving dataset"
      ]
    },
    {
      "cell_type": "code",
      "execution_count": 5,
      "metadata": {},
      "outputs": [
        {
          "data": {
            "text/html": [
              "<div>\n",
              "<style scoped>\n",
              "    .dataframe tbody tr th:only-of-type {\n",
              "        vertical-align: middle;\n",
              "    }\n",
              "\n",
              "    .dataframe tbody tr th {\n",
              "        vertical-align: top;\n",
              "    }\n",
              "\n",
              "    .dataframe thead th {\n",
              "        text-align: right;\n",
              "    }\n",
              "</style>\n",
              "<table border=\"1\" class=\"dataframe\">\n",
              "  <thead>\n",
              "    <tr style=\"text-align: right;\">\n",
              "      <th></th>\n",
              "      <th>OrderDate</th>\n",
              "      <th>TransactionID</th>\n",
              "      <th>Recipient</th>\n",
              "      <th>Supplier</th>\n",
              "      <th>Number ordered</th>\n",
              "      <th>Weapon designation</th>\n",
              "      <th>Weapon description</th>\n",
              "      <th>Number delivered</th>\n",
              "      <th>status</th>\n",
              "      <th>Comments</th>\n",
              "      <th>SIPRI TIV per unit</th>\n",
              "      <th>SIPRI TIV for total order</th>\n",
              "      <th>SIPRI TIV of delivered weapons</th>\n",
              "      <th>Supplier_Total_TIV</th>\n",
              "      <th>Recipient_Total_TIV</th>\n",
              "      <th>Trade_Volume</th>\n",
              "      <th>Decade</th>\n",
              "      <th>Trade_Frequency</th>\n",
              "    </tr>\n",
              "  </thead>\n",
              "  <tbody>\n",
              "    <tr>\n",
              "      <th>0</th>\n",
              "      <td>2002-01-01</td>\n",
              "      <td>Russia_2002.0_0</td>\n",
              "      <td>Afghanistan</td>\n",
              "      <td>Russia</td>\n",
              "      <td>3.0</td>\n",
              "      <td>Mi-17</td>\n",
              "      <td>transport helicopter</td>\n",
              "      <td>3.0</td>\n",
              "      <td>Second hand</td>\n",
              "      <td>Second-hand; aid</td>\n",
              "      <td>2.90</td>\n",
              "      <td>8.70</td>\n",
              "      <td>8.70</td>\n",
              "      <td>165817.26</td>\n",
              "      <td>15809.14</td>\n",
              "      <td>11</td>\n",
              "      <td>2000.0</td>\n",
              "      <td>6</td>\n",
              "    </tr>\n",
              "    <tr>\n",
              "      <th>1</th>\n",
              "      <td>2007-01-01</td>\n",
              "      <td>Turkiye_2007.0_1</td>\n",
              "      <td>Afghanistan</td>\n",
              "      <td>Turkiye</td>\n",
              "      <td>24.0</td>\n",
              "      <td>M-114 155mm</td>\n",
              "      <td>towed gun</td>\n",
              "      <td>24.0</td>\n",
              "      <td>Second hand</td>\n",
              "      <td>Second-hand; aid</td>\n",
              "      <td>0.20</td>\n",
              "      <td>4.80</td>\n",
              "      <td>4.80</td>\n",
              "      <td>6689.54</td>\n",
              "      <td>15809.14</td>\n",
              "      <td>1</td>\n",
              "      <td>2000.0</td>\n",
              "      <td>1</td>\n",
              "    </tr>\n",
              "    <tr>\n",
              "      <th>2</th>\n",
              "      <td>2004-01-01</td>\n",
              "      <td>United States_2004.0_2</td>\n",
              "      <td>Afghanistan</td>\n",
              "      <td>United States</td>\n",
              "      <td>188.0</td>\n",
              "      <td>M-113</td>\n",
              "      <td>armoured personnel carrier</td>\n",
              "      <td>188.0</td>\n",
              "      <td>Second hand</td>\n",
              "      <td>Second-hand; aid; M-113A2 version; incl 15 M-5...</td>\n",
              "      <td>0.10</td>\n",
              "      <td>18.80</td>\n",
              "      <td>18.80</td>\n",
              "      <td>849588.93</td>\n",
              "      <td>15809.14</td>\n",
              "      <td>34</td>\n",
              "      <td>2000.0</td>\n",
              "      <td>3</td>\n",
              "    </tr>\n",
              "    <tr>\n",
              "      <th>3</th>\n",
              "      <td>2016-01-01</td>\n",
              "      <td>United States_2016.0_3</td>\n",
              "      <td>Afghanistan</td>\n",
              "      <td>United States</td>\n",
              "      <td>53.0</td>\n",
              "      <td>S-70 Black Hawk</td>\n",
              "      <td>transport helicopter</td>\n",
              "      <td>53.0</td>\n",
              "      <td>Second hand but modernized</td>\n",
              "      <td>Second-hand UH-60A modernized to UH-60A+ befor...</td>\n",
              "      <td>4.29</td>\n",
              "      <td>227.37</td>\n",
              "      <td>227.37</td>\n",
              "      <td>849588.93</td>\n",
              "      <td>15809.14</td>\n",
              "      <td>34</td>\n",
              "      <td>2010.0</td>\n",
              "      <td>31</td>\n",
              "    </tr>\n",
              "    <tr>\n",
              "      <th>4</th>\n",
              "      <td>1973-01-01</td>\n",
              "      <td>Soviet Union_1973.0_4</td>\n",
              "      <td>Afghanistan</td>\n",
              "      <td>Soviet Union</td>\n",
              "      <td>100.0</td>\n",
              "      <td>T-62</td>\n",
              "      <td>tank</td>\n",
              "      <td>100.0</td>\n",
              "      <td>New</td>\n",
              "      <td>No additional info</td>\n",
              "      <td>1.80</td>\n",
              "      <td>180.00</td>\n",
              "      <td>180.00</td>\n",
              "      <td>452121.07</td>\n",
              "      <td>15809.14</td>\n",
              "      <td>82</td>\n",
              "      <td>1970.0</td>\n",
              "      <td>25</td>\n",
              "    </tr>\n",
              "  </tbody>\n",
              "</table>\n",
              "</div>"
            ],
            "text/plain": [
              "    OrderDate           TransactionID    Recipient       Supplier  \\\n",
              "0  2002-01-01         Russia_2002.0_0  Afghanistan         Russia   \n",
              "1  2007-01-01        Turkiye_2007.0_1  Afghanistan        Turkiye   \n",
              "2  2004-01-01  United States_2004.0_2  Afghanistan  United States   \n",
              "3  2016-01-01  United States_2016.0_3  Afghanistan  United States   \n",
              "4  1973-01-01   Soviet Union_1973.0_4  Afghanistan   Soviet Union   \n",
              "\n",
              "   Number ordered Weapon designation          Weapon description  \\\n",
              "0             3.0              Mi-17        transport helicopter   \n",
              "1            24.0        M-114 155mm                   towed gun   \n",
              "2           188.0              M-113  armoured personnel carrier   \n",
              "3            53.0    S-70 Black Hawk        transport helicopter   \n",
              "4           100.0               T-62                        tank   \n",
              "\n",
              "   Number delivered                      status  \\\n",
              "0               3.0                 Second hand   \n",
              "1              24.0                 Second hand   \n",
              "2             188.0                 Second hand   \n",
              "3              53.0  Second hand but modernized   \n",
              "4             100.0                         New   \n",
              "\n",
              "                                            Comments  SIPRI TIV per unit  \\\n",
              "0                                   Second-hand; aid                2.90   \n",
              "1                                   Second-hand; aid                0.20   \n",
              "2  Second-hand; aid; M-113A2 version; incl 15 M-5...                0.10   \n",
              "3  Second-hand UH-60A modernized to UH-60A+ befor...                4.29   \n",
              "4                                 No additional info                1.80   \n",
              "\n",
              "   SIPRI TIV for total order  SIPRI TIV of delivered weapons  \\\n",
              "0                       8.70                            8.70   \n",
              "1                       4.80                            4.80   \n",
              "2                      18.80                           18.80   \n",
              "3                     227.37                          227.37   \n",
              "4                     180.00                          180.00   \n",
              "\n",
              "   Supplier_Total_TIV  Recipient_Total_TIV  Trade_Volume  Decade  \\\n",
              "0           165817.26             15809.14            11  2000.0   \n",
              "1             6689.54             15809.14             1  2000.0   \n",
              "2           849588.93             15809.14            34  2000.0   \n",
              "3           849588.93             15809.14            34  2010.0   \n",
              "4           452121.07             15809.14            82  1970.0   \n",
              "\n",
              "   Trade_Frequency  \n",
              "0                6  \n",
              "1                1  \n",
              "2                3  \n",
              "3               31  \n",
              "4               25  "
            ]
          },
          "execution_count": 5,
          "metadata": {},
          "output_type": "execute_result"
        }
      ],
      "source": [
        "arms_enhance_df = pd.read_csv('data_folder/Processed/arms_trade_cleaned.csv')\n",
        "arms_enhance_df.head()"
      ]
    },
    {
      "cell_type": "markdown",
      "metadata": {},
      "source": [
        "Choosing features and assigning to X."
      ]
    },
    {
      "cell_type": "markdown",
      "metadata": {},
      "source": [
        "It was discovered in the last section that Trade_Volume vs Trade Frequency had promise for clusters, the addition of Supplier and Reciepient TIV is a natural addition as all these features correlate heavily."
      ]
    },
    {
      "cell_type": "code",
      "execution_count": 6,
      "metadata": {},
      "outputs": [],
      "source": [
        "features = [\n",
        "    'Supplier_Total_TIV',\n",
        "    'Recipient_Total_TIV',\n",
        "    'Trade_Volume',\n",
        "    'Trade_Frequency'\n",
        "]\n",
        "\n",
        "X = arms_enhance_df[features]\n"
      ]
    },
    {
      "cell_type": "markdown",
      "metadata": {},
      "source": [
        "It was also concluded in the statistical analysis section of the last notebook that the data was heavily right skewed, so it was decided that for future modelling a log scale would make the data easier to work with."
      ]
    },
    {
      "cell_type": "code",
      "execution_count": 7,
      "metadata": {},
      "outputs": [],
      "source": [
        "# Log transform to noramlise right skew distribution\n",
        "X_log = np.log1p(X)\n",
        "\n",
        "# Standardized for K-Means\n",
        "scaler = StandardScaler()\n",
        "X_scaled = scaler.fit_transform(X_log)\n"
      ]
    },
    {
      "cell_type": "markdown",
      "metadata": {},
      "source": [
        "Next the optimal number of clusters will be calculated with 2 scoring methods, the hope is for 3 clusters nut if the scoring determines otherwise adjustments can be made."
      ]
    },
    {
      "cell_type": "code",
      "execution_count": 8,
      "metadata": {},
      "outputs": [
        {
          "name": "stderr",
          "output_type": "stream",
          "text": [
            "c:\\Users\\jackr\\OneDrive\\Desktop\\my_projects\\Capstone\\Arms-Import-Export-Analysis\\.venv\\Lib\\site-packages\\sklearn\\cluster\\_kmeans.py:1416: FutureWarning: The default value of `n_init` will change from 10 to 'auto' in 1.4. Set the value of `n_init` explicitly to suppress the warning\n",
            "  super()._check_params_vs_input(X, default_n_init=10)\n",
            "c:\\Users\\jackr\\OneDrive\\Desktop\\my_projects\\Capstone\\Arms-Import-Export-Analysis\\.venv\\Lib\\site-packages\\sklearn\\cluster\\_kmeans.py:1416: FutureWarning: The default value of `n_init` will change from 10 to 'auto' in 1.4. Set the value of `n_init` explicitly to suppress the warning\n",
            "  super()._check_params_vs_input(X, default_n_init=10)\n",
            "c:\\Users\\jackr\\OneDrive\\Desktop\\my_projects\\Capstone\\Arms-Import-Export-Analysis\\.venv\\Lib\\site-packages\\sklearn\\cluster\\_kmeans.py:1416: FutureWarning: The default value of `n_init` will change from 10 to 'auto' in 1.4. Set the value of `n_init` explicitly to suppress the warning\n",
            "  super()._check_params_vs_input(X, default_n_init=10)\n",
            "c:\\Users\\jackr\\OneDrive\\Desktop\\my_projects\\Capstone\\Arms-Import-Export-Analysis\\.venv\\Lib\\site-packages\\sklearn\\cluster\\_kmeans.py:1416: FutureWarning: The default value of `n_init` will change from 10 to 'auto' in 1.4. Set the value of `n_init` explicitly to suppress the warning\n",
            "  super()._check_params_vs_input(X, default_n_init=10)\n",
            "c:\\Users\\jackr\\OneDrive\\Desktop\\my_projects\\Capstone\\Arms-Import-Export-Analysis\\.venv\\Lib\\site-packages\\sklearn\\cluster\\_kmeans.py:1416: FutureWarning: The default value of `n_init` will change from 10 to 'auto' in 1.4. Set the value of `n_init` explicitly to suppress the warning\n",
            "  super()._check_params_vs_input(X, default_n_init=10)\n",
            "c:\\Users\\jackr\\OneDrive\\Desktop\\my_projects\\Capstone\\Arms-Import-Export-Analysis\\.venv\\Lib\\site-packages\\sklearn\\cluster\\_kmeans.py:1416: FutureWarning: The default value of `n_init` will change from 10 to 'auto' in 1.4. Set the value of `n_init` explicitly to suppress the warning\n",
            "  super()._check_params_vs_input(X, default_n_init=10)\n",
            "c:\\Users\\jackr\\OneDrive\\Desktop\\my_projects\\Capstone\\Arms-Import-Export-Analysis\\.venv\\Lib\\site-packages\\sklearn\\cluster\\_kmeans.py:1416: FutureWarning: The default value of `n_init` will change from 10 to 'auto' in 1.4. Set the value of `n_init` explicitly to suppress the warning\n",
            "  super()._check_params_vs_input(X, default_n_init=10)\n",
            "c:\\Users\\jackr\\OneDrive\\Desktop\\my_projects\\Capstone\\Arms-Import-Export-Analysis\\.venv\\Lib\\site-packages\\sklearn\\cluster\\_kmeans.py:1416: FutureWarning: The default value of `n_init` will change from 10 to 'auto' in 1.4. Set the value of `n_init` explicitly to suppress the warning\n",
            "  super()._check_params_vs_input(X, default_n_init=10)\n"
          ]
        },
        {
          "data": {
            "image/png": "[encoded data removed]",
            "text/plain": [
              "<Figure size 1200x500 with 2 Axes>"
            ]
          },
          "metadata": {},
          "output_type": "display_data"
        }
      ],
      "source": [
        "inertia = []\n",
        "silhouette = []\n",
        "K = range(2, 10)\n",
        "\n",
        "# for loop to calculate inertia and silhouette scores\n",
        "for k in K:\n",
        "    kmeans = KMeans(n_clusters=k, random_state=42)\n",
        "    kmeans.fit(X_scaled)\n",
        "    inertia.append(kmeans.inertia_)\n",
        "    silhouette.append(silhouette_score(X_scaled, kmeans.labels_))\n",
        "\n",
        "# Plot elbow and silhouette\n",
        "fig, ax = plt.subplots(1, 2, figsize=(12,5))\n",
        "ax[0].plot(K, inertia, 'o-', color='blue')\n",
        "ax[0].set_title('Elbow Method')\n",
        "ax[0].set_xlabel('k')\n",
        "ax[0].set_ylabel('Inertia')\n",
        "\n",
        "ax[1].plot(K, silhouette, 'o-', color='green')\n",
        "ax[1].set_title('Silhouette Scores')\n",
        "ax[1].set_xlabel('k')\n",
        "ax[1].set_ylabel('Score')\n",
        "\n",
        "plt.show()\n"
      ]
    },
    {
      "cell_type": "markdown",
      "metadata": {},
      "source": [
        "This is a brilliant and clear result. In the Elbow Method it's apparent the elbow starts forming around 4 k with a pronounced plateau around at 5 k and above. In the Silhouette Plot 2 k Has the score but there's an obvious peak formed again at 4 k. From this it can't be ignored that 4 clusters is the optimal number as both tests confirm this. While this is different from my expected 3 clusters it actually makes more sense, as opposed to just Importers, Exporters and Balanced, 4 clusters correctly identifies the existence of countries who have minimal interaction with the arms trade altogether."
      ]
    },
    {
      "cell_type": "markdown",
      "metadata": {},
      "source": []
    },
    {
      "cell_type": "code",
      "execution_count": null,
      "metadata": {},
      "outputs": [],
      "source": []
    },
    {
      "cell_type": "markdown",
      "metadata": {
        "id": "ZY3l0-AxO93d"
      },
      "source": [
        "---"
      ]
    },
    {
      "cell_type": "markdown",
      "metadata": {
        "id": "uFQo3ycuO-v6"
      },
      "source": [
        "# Section 2"
      ]
    },
    {
      "cell_type": "markdown",
      "metadata": {},
      "source": [
        "Section 2 content"
      ]
    },
    {
      "cell_type": "code",
      "execution_count": null,
      "metadata": {},
      "outputs": [],
      "source": []
    },
    {
      "cell_type": "markdown",
      "metadata": {},
      "source": [
        "---"
      ]
    },
    {
      "cell_type": "markdown",
      "metadata": {},
      "source": [
        "NOTE"
      ]
    },
    {
      "cell_type": "markdown",
      "metadata": {},
      "source": [
        "* You may add as many sections as you want, as long as it supports your project workflow.\n",
        "* All notebook's cells should be run top-down (you can't create a dynamic wherein a given point you need to go back to a previous cell to execute some task, like go back to a previous cell and refresh a variable content)"
      ]
    },
    {
      "cell_type": "markdown",
      "metadata": {},
      "source": [
        "---"
      ]
    },
    {
      "cell_type": "markdown",
      "metadata": {
        "id": "ltNetd085qHf"
      },
      "source": [
        "# Push files to Repo"
      ]
    },
    {
      "cell_type": "markdown",
      "metadata": {},
      "source": [
        "* In cases where you don't need to push files to Repo, you may replace this section with \"Conclusions and Next Steps\" and state your conclusions and next steps."
      ]
    },
    {
      "cell_type": "code",
      "execution_count": null,
      "metadata": {
        "id": "aKlnIozA4eQO",
        "outputId": "fd09bc1f-adb1-4511-f6ce-492a6af570c0"
      },
      "outputs": [],
      "source": [
        "import os\n",
        "try:\n",
        "  # create your folder here\n",
        "  # os.makedirs(name='')\n",
        "except Exception as e:\n",
        "  print(e)\n"
      ]
    }
  ],
  "metadata": {
    "accelerator": "GPU",
    "colab": {
      "name": "Data Practitioner Jupyter Notebook.ipynb",
      "provenance": [],
      "toc_visible": true
    },
    "kernelspec": {
      "display_name": ".venv (3.12.8)",
      "language": "python",
      "name": "python3"
    },
    "language_info": {
      "codemirror_mode": {
        "name": "ipython",
        "version": 3
      },
      "file_extension": ".py",
      "mimetype": "text/x-python",
      "name": "python",
      "nbconvert_exporter": "python",
      "pygments_lexer": "ipython3",
      "version": "3.12.8"
    },
    "orig_nbformat": 2
  },
  "nbformat": 4,
  "nbformat_minor": 2
}
